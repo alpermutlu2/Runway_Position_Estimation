{
  "nbformat": 4,
  "nbformat_minor": 0,
  "metadata": {
    "colab": {
      "name": "Runway_Position_Estimation_Demo.ipynb",
      "provenance": [],
      "authorship_tag": "generated",
      "collapsed_sections": []
    },
    "kernelspec": {
      "name": "python3",
      "display_name": "Python 3"
    },
    "language_info": {
      "name": "python"
    }
  },
  "cells": [
    {
      "cell_type": "markdown",
      "metadata": {},
      "source": [
        "# ✈️ Runway Position Estimation — Colab Demo\n",
        "This notebook demonstrates the visual localization pipeline using video input or KITTI-style datasets."
      ]
    },
    {
      "cell_type": "code",
      "metadata": {},
      "source": [
        "# ⚙️ Clone and setup\n",
        "!git clone https://github.com/alpermutlu2/Runway_Position_Estimation.git\n",
        "%cd Runway_Position_Estimation\n",
        "!pip install -r requirements.txt\n",
        "!python scripts/download_weights.py"
      ],
      "execution_count": null,
      "outputs": []
    },
    {
      "cell_type": "code",
      "metadata": {},
      "source": [
        "# 🧪 Run on sample video\n",
        "!python main.py \\n",
        "    --video assets/sample_runway.mp4 \\n",
        "    --visualize \\n",
        "    --device cuda \\n",
        "    --realtime"
      ],
      "execution_count": null,
      "outputs": []
    },
    {
      "cell_type": "markdown",
      "metadata": {},
      "source": [
        "## 📌 Notes\n",
        "- If running on CPU, change `--device cuda` to `--device cpu`.\n",
        "- You can upload your own video and change the `--video` path."
      ]
    }
  ]
}